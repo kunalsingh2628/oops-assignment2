{
 "cells": [
  {
   "cell_type": "code",
   "execution_count": 1,
   "id": "a8da5121-17de-4acf-8993-4e6bdaa2dd80",
   "metadata": {},
   "outputs": [],
   "source": [
    "##Q-1"
   ]
  },
  {
   "cell_type": "code",
   "execution_count": null,
   "id": "01cf0d10-3549-4402-aac9-cd5cdd4bac66",
   "metadata": {},
   "outputs": [],
   "source": [
    "Abstraction in object-oriented programming (OOP) is the concept of simplifying complex systems by modeling classes based on the essential properties and behaviors they possess, while ignoring the unnecessary details. It involves focusing on the relevant aspects of an object while hiding the irrelevant details. \n",
    "Abstraction allows you to create models that represent real-world entities in a simplified manner."
   ]
  },
  {
   "cell_type": "code",
   "execution_count": 2,
   "id": "41232ecb-9a8d-41e8-858a-b2c56cc94a5a",
   "metadata": {},
   "outputs": [],
   "source": [
    "class Car:\n",
    "    def __init__(self, model, color):\n",
    "        self.model = model\n",
    "        self.color = color\n",
    "        self.speed = 0\n",
    "\n",
    "    def accelerate(self):\n",
    "        # Implementation details abstracted\n",
    "        self.speed += 10\n",
    "\n",
    "    def brake(self):\n",
    "        # Implementation details abstracted\n",
    "        self.speed -= 5\n"
   ]
  },
  {
   "cell_type": "code",
   "execution_count": 5,
   "id": "73ba84a5-09db-401a-8f46-f8513d3f542a",
   "metadata": {},
   "outputs": [],
   "source": [
    "c = Car(2003 , \"blue\")"
   ]
  },
  {
   "cell_type": "code",
   "execution_count": 6,
   "id": "5a7b5c1b-b989-485b-bab6-639e1c07d207",
   "metadata": {},
   "outputs": [
    {
     "data": {
      "text/plain": [
       "2003"
      ]
     },
     "execution_count": 6,
     "metadata": {},
     "output_type": "execute_result"
    }
   ],
   "source": [
    "c.model"
   ]
  },
  {
   "cell_type": "code",
   "execution_count": 7,
   "id": "cba37e22-a2a2-4136-832e-4da669449485",
   "metadata": {},
   "outputs": [
    {
     "data": {
      "text/plain": [
       "'blue'"
      ]
     },
     "execution_count": 7,
     "metadata": {},
     "output_type": "execute_result"
    }
   ],
   "source": [
    "c.color"
   ]
  },
  {
   "cell_type": "code",
   "execution_count": null,
   "id": "b7f2bf2f-4b25-49ea-96b1-8015cdce22f1",
   "metadata": {},
   "outputs": [],
   "source": [
    "##Q-2"
   ]
  },
  {
   "cell_type": "code",
   "execution_count": null,
   "id": "c2c0046d-f4a4-4dfd-a48b-8f14d49d2184",
   "metadata": {},
   "outputs": [],
   "source": [
    "Abstraction and encapsulation are related concepts in OOP but serve different purposes:\n",
    "\n",
    "Abstraction: Focuses on hiding the complex reality while exposing only the essential parts. It is about modeling the relevant aspects of an object.\n",
    "\n",
    "Encapsulation: Involves bundling the data (attributes) and the methods (functions) that operate on the data into a single unit, known as a class. It restricts access to some of an object's components, emphasizing data hiding."
   ]
  },
  {
   "cell_type": "code",
   "execution_count": 9,
   "id": "7dc361d6-23a2-4b14-9cb1-80665b713c0e",
   "metadata": {},
   "outputs": [],
   "source": [
    "# Abstraction example\n",
    "class Car:\n",
    "    def __init__(self, model, color):\n",
    "        self.model = model\n",
    "        self.color = color\n",
    "        self.speed = 0\n",
    "\n",
    "    def accelerate(self):\n",
    "        self.speed += 10\n",
    "\n",
    "    def brake(self):\n",
    "        self.speed -= 5\n",
    "\n",
    "# Encapsulation example\n",
    "class BankAccount:\n",
    "    def __init__(self, account_number, balance):\n",
    "        self.__account_number = account_number  # Encapsulation with private attribute\n",
    "        self.__balance = balance\n",
    "\n",
    "    def get_balance(self):\n",
    "        return self.__balance\n",
    "\n",
    "    def deposit(self, amount):\n",
    "        # Encapsulation with methods controlling access to data\n",
    "        self.__balance += amount\n",
    "\n",
    "    def withdraw(self, amount):\n",
    "        if amount <= self.__balance:\n",
    "            self.__balance -= amount\n",
    "        else:\n",
    "            print(\"Insufficient funds\")\n",
    "\n",
    "# Example usage\n",
    "car = Car(\"Toyota\", \"Blue\")\n",
    "car.accelerate()\n",
    "\n",
    "account = BankAccount(\"123456\", 1000)\n",
    "account.deposit(500)\n"
   ]
  },
  {
   "cell_type": "code",
   "execution_count": 10,
   "id": "0aa94317-4b63-4553-970f-34a065b8b296",
   "metadata": {},
   "outputs": [
    {
     "data": {
      "text/plain": [
       "'Toyota'"
      ]
     },
     "execution_count": 10,
     "metadata": {},
     "output_type": "execute_result"
    }
   ],
   "source": [
    "car.model"
   ]
  },
  {
   "cell_type": "code",
   "execution_count": 11,
   "id": "ca557e78-4008-4adc-b39f-71cb960d495b",
   "metadata": {},
   "outputs": [
    {
     "data": {
      "text/plain": [
       "10"
      ]
     },
     "execution_count": 11,
     "metadata": {},
     "output_type": "execute_result"
    }
   ],
   "source": [
    "car.speed"
   ]
  },
  {
   "cell_type": "code",
   "execution_count": null,
   "id": "4e5793e2-a33d-4d8d-9d03-b78d32d2e2fc",
   "metadata": {},
   "outputs": [],
   "source": [
    "##Q-3"
   ]
  },
  {
   "cell_type": "code",
   "execution_count": null,
   "id": "77f9d78f-3124-4bee-aa34-2cb00f30c999",
   "metadata": {},
   "outputs": [],
   "source": [
    "The abc module in Python stands for \"Abstract Base Classes.\" It provides a way to define abstract base classes and abstract methods. An abstract base class is a class that cannot be instantiated and is meant to be subclassed by other classes, forcing them to implement specific methods.\n",
    "\n",
    "The main purpose of the abc module is to support abstract classes and abstract methods, which help in achieving abstraction in Python."
   ]
  },
  {
   "cell_type": "code",
   "execution_count": null,
   "id": "9d14c446-5e07-4d1e-97f3-ab5c6d50f54d",
   "metadata": {},
   "outputs": [],
   "source": [
    "##Q-4"
   ]
  },
  {
   "cell_type": "code",
   "execution_count": null,
   "id": "aa17c4c9-435b-4bba-9dd3-fc6be32d4b77",
   "metadata": {},
   "outputs": [],
   "source": [
    "Data abstraction in OOP is achieved through the use of abstract classes and abstract methods. \n",
    "Abstract classes cannot be instantiated and are meant to be subclassed by other classes.\n",
    "Abstract methods declared in the abstract class must be implemented by the concrete subclasses, enforcing a level of abstraction."
   ]
  }
 ],
 "metadata": {
  "kernelspec": {
   "display_name": "Python 3 (ipykernel)",
   "language": "python",
   "name": "python3"
  },
  "language_info": {
   "codemirror_mode": {
    "name": "ipython",
    "version": 3
   },
   "file_extension": ".py",
   "mimetype": "text/x-python",
   "name": "python",
   "nbconvert_exporter": "python",
   "pygments_lexer": "ipython3",
   "version": "3.10.8"
  }
 },
 "nbformat": 4,
 "nbformat_minor": 5
}
